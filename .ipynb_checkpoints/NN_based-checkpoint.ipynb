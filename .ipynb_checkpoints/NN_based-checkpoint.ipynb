{
 "cells": [
  {
   "cell_type": "code",
   "execution_count": 5,
   "metadata": {},
   "outputs": [],
   "source": [
    "import pandas as pd\n",
    "import numpy as np\n",
    "from sklearn.preprocessing import LabelEncoder\n",
    "from sklearn.metrics import pairwise_distances\n",
    "from sklearn.model_selection import train_test_split\n",
    "from sklearn.metrics import mean_squared_error\n",
    "from math import sqrt\n",
    "import matplotlib.pyplot as plt\n",
    "import os"
   ]
  },
  {
   "cell_type": "code",
   "execution_count": 3,
   "metadata": {},
   "outputs": [],
   "source": [
    "from surprise import Dataset\n",
    "from surprise import Reader\n",
    "from surprise.model_selection import cross_validate\n",
    "from surprise import KNNBasic"
   ]
  },
  {
   "cell_type": "code",
   "execution_count": 6,
   "metadata": {},
   "outputs": [],
   "source": [
    "#NN-based model\n",
    "from deepctr_torch.models import PNN\n",
    "from deepctr_torch.models import CCPM\n",
    "\n",
    "from deepctr_torch.models import WDL \n",
    "from deepctr_torch.models import DCN\n",
    "from deepctr_torch.models import NFM\n",
    "from deepctr_torch.models import DeepFM\n",
    "\n",
    "#recent nn-based approach\n",
    "from deepctr_torch.models import AFM\n",
    "from deepctr_torch.models import xDeepFM\n",
    "from deepctr_torch.inputs import SparseFeat,get_feature_names\n",
    "os.environ[\"TF_ENABLE_ONEDNN_OPTS\"]='0'"
   ]
  },
  {
   "cell_type": "code",
   "execution_count": 8,
   "metadata": {},
   "outputs": [],
   "source": [
    "df = pd.read_csv(\"../hw3_data/Movielens/user_movie.dat\",header=None,sep='\\t',names=['user','movie','rating','time'])\n",
    "movie_count = df[\"movie\"].value_counts()\n",
    "df = df[df[\"movie\"].isin(movie_count.index[movie_count.gt(2)])]"
   ]
  },
  {
   "cell_type": "code",
   "execution_count": null,
   "metadata": {},
   "outputs": [],
   "source": []
  }
 ],
 "metadata": {
  "kernelspec": {
   "display_name": "Python 3 (ipykernel)",
   "language": "python",
   "name": "python3"
  },
  "language_info": {
   "codemirror_mode": {
    "name": "ipython",
    "version": 3
   },
   "file_extension": ".py",
   "mimetype": "text/x-python",
   "name": "python",
   "nbconvert_exporter": "python",
   "pygments_lexer": "ipython3",
   "version": "3.8.10"
  }
 },
 "nbformat": 4,
 "nbformat_minor": 4
}
