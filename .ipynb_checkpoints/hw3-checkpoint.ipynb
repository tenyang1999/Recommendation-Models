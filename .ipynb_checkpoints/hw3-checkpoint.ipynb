{
 "cells": [
  {
   "cell_type": "code",
   "execution_count": 1,
   "metadata": {},
   "outputs": [],
   "source": [
    "import pandas as pd\n",
    "from numpy.linalg import norm\n",
    "import numpy as np\n",
    "import torch\n",
    "from sklearn.model_selection import train_test_split\n",
    "from sklearn.metrics.pairwise import cosine_similarity\n",
    "from scipy import sparse\n",
    "from sklearn.metrics import mean_squared_error\n",
    "from sklearn.model_selection import ShuffleSplit"
   ]
  },
  {
   "cell_type": "markdown",
   "metadata": {},
   "source": [
    "# load data book"
   ]
  },
  {
   "cell_type": "code",
   "execution_count": 5,
   "metadata": {},
   "outputs": [],
   "source": [
    "user_user = pd.read_csv('../hw3_data/Douban_Book/user_user.dat', sep='\\t', header=None)\n",
    "user_book = pd.read_csv('../hw3_data/Douban_Book/user_book.dat', sep='\\t', header=None)\n",
    "user_group = pd.read_csv('../hw3_data/Douban_Book/user_group.dat', sep='\\t', header=None)\n",
    "user_location = pd.read_csv('../hw3_data/Douban_Book/user_location.dat', sep='\\t', header=None)\n",
    "book_author = pd.read_csv('../hw3_data/Douban_Book/book_author.dat', sep='\\t', header=None)\n",
    "book_publisher = pd.read_csv('../hw3_data/Douban_Book/book_publisher.dat', sep='\\t', header=None)\n",
    "book_year = pd.read_csv('../hw3_data/Douban_Book/book_year.dat', sep='\\t', header=None)"
   ]
  },
  {
   "cell_type": "code",
   "execution_count": 6,
   "metadata": {},
   "outputs": [],
   "source": [
    "# whose user-user interaction < 3\n",
    "zero_inter = []\n",
    "for i in range(1, 13024+1):\n",
    "    inter_left = user_user[user_user[0] == i].shape[0]\n",
    "    inter_right = user_user[user_user[1] == i].shape[0]\n",
    "    inter = inter_right + inter_left \n",
    "    if inter < 3:\n",
    "        zero_inter.append(i)\n",
    "# 整理data\n",
    "user_book['drop'] = user_book.apply(lambda row: row[0] in zero_inter ,axis = 1)\n",
    "user_book = user_book[user_book['drop'] == False]\n",
    "user_book = user_book[[0,1,2]]\n",
    "np.save('../hw3_data/Douban_Book/user_book.npy',user_book)\n",
    "\n",
    "user_group['drop'] = user_group.apply(lambda row: row[0] in zero_inter ,axis = 1)\n",
    "user_group = user_group[user_group['drop'] == False]\n",
    "user_group = user_group[[0,1]]\n",
    "np.save('../hw3_data/Douban_Book/user_group.npy',user_book)\n",
    "\n",
    "user_location['drop'] = user_location.apply(lambda row: row[0] in zero_inter ,axis = 1)\n",
    "user_location = user_location[user_location['drop'] == False]\n",
    "user_location = user_location[[0,1]]\n",
    "np.save('../hw3_data/Douban_Book/user_location.npy',user_book)\n",
    "\n",
    "# user_location = user_location[[0,1]]\n",
    "# user_location.to_csv(\"user_location.csv\",index=False)\n",
    "# user_location.to_csv(\"user_location.csv\",index=False)"
   ]
  },
  {
   "cell_type": "code",
   "execution_count": 16,
   "metadata": {},
   "outputs": [],
   "source": [
    "np.save('Douban_Book/user_user.dat',user_book)"
   ]
  },
  {
   "cell_type": "code",
   "execution_count": 14,
   "metadata": {},
   "outputs": [],
   "source": [
    "user_location = user_location[[0,1]]\n",
    "np.save('Douban_Book/user_location.npy',user_location)"
   ]
  },
  {
   "cell_type": "code",
   "execution_count": null,
   "metadata": {},
   "outputs": [],
   "source": [
    "user_book = user_book.sort_values(by = 0)"
   ]
  },
  {
   "cell_type": "code",
   "execution_count": null,
   "metadata": {},
   "outputs": [],
   "source": [
    "unique_book = np.unique(user_book[1])\n",
    "unique_user = np.unique(X[0])"
   ]
  },
  {
   "cell_type": "markdown",
   "metadata": {},
   "source": [
    "# load data MovieLens"
   ]
  },
  {
   "cell_type": "code",
   "execution_count": null,
   "metadata": {},
   "outputs": [],
   "source": [
    "'''\n",
    "This data set consists of:\n",
    "\t* 100,000 ratings (1-5) from 943 users on 1682 movies. \n",
    "\t* Each user has rated at least 20 movies. \n",
    "        * Simple demographic info for the users (age, gender, occupation, zip)\n",
    "\n",
    " user_movie = user id | item id | rating | timestamp. \n",
    "'''"
   ]
  },
  {
   "cell_type": "code",
   "execution_count": 3,
   "metadata": {},
   "outputs": [],
   "source": [
    "movie_genre = pd.read_csv('../hw3_data/Movielens/movie_genre.dat', sep='\\t', header=None)\n",
    "movie_movie = pd.read_csv('../hw3_data/Movielens/movie_movie(knn).dat', sep='\\t', header=None)\n",
    "user_age = pd.read_csv('../hw3_data/Movielens/user_age.dat', sep='\\t', header=None)\n",
    "user_movie = pd.read_csv('../hw3_data/Movielens/user_movie.dat', sep='\\t', header=None)\n",
    "user_occupation = pd.read_csv('../hw3_data/Movielens/user_occupation.dat', sep='\\t', header=None)\n",
    "user_user = pd.read_csv('../hw3_data/Movielens/user_user(knn).dat', sep='\\t', header=None)"
   ]
  },
  {
   "cell_type": "code",
   "execution_count": 4,
   "metadata": {},
   "outputs": [],
   "source": [
    "np.save(\"Movielens/user_movie.npy\",np.array(user_movie[[0,1,2]]))"
   ]
  },
  {
   "cell_type": "markdown",
   "metadata": {},
   "source": [
    "# load data Yelp"
   ]
  },
  {
   "cell_type": "code",
   "execution_count": null,
   "metadata": {},
   "outputs": [],
   "source": [
    "movie_genre = pd.read_csv('Movielens/movie_genre.dat', sep='\\t', header=None)\n",
    "movie_movie = pd.read_csv('Movielens/movie_movie(knn).dat', sep='\\t', header=None)\n",
    "user_age = pd.read_csv('Movielens/user_age.dat', sep='\\t', header=None)\n",
    "user_movie = pd.read_csv('Movielens/user_movie.dat', sep='\\t', header=None)\n",
    "user_occupation = pd.read_csv('Movielens/user_occupation.dat', sep='\\t', header=None)\n",
    "user_user = pd.read_csv('Movielens/user_user(knn).dat', sep='\\t', header=None)"
   ]
  },
  {
   "cell_type": "markdown",
   "metadata": {},
   "source": [
    "# train split"
   ]
  },
  {
   "cell_type": "code",
   "execution_count": 3,
   "metadata": {},
   "outputs": [
    {
     "data": {
      "text/html": [
       "<div>\n",
       "<style scoped>\n",
       "    .dataframe tbody tr th:only-of-type {\n",
       "        vertical-align: middle;\n",
       "    }\n",
       "\n",
       "    .dataframe tbody tr th {\n",
       "        vertical-align: top;\n",
       "    }\n",
       "\n",
       "    .dataframe thead th {\n",
       "        text-align: right;\n",
       "    }\n",
       "</style>\n",
       "<table border=\"1\" class=\"dataframe\">\n",
       "  <thead>\n",
       "    <tr style=\"text-align: right;\">\n",
       "      <th></th>\n",
       "      <th>0</th>\n",
       "      <th>1</th>\n",
       "      <th>2</th>\n",
       "    </tr>\n",
       "  </thead>\n",
       "  <tbody>\n",
       "    <tr>\n",
       "      <th>1</th>\n",
       "      <td>10855</td>\n",
       "      <td>938</td>\n",
       "      <td>4</td>\n",
       "    </tr>\n",
       "    <tr>\n",
       "      <th>2</th>\n",
       "      <td>10027</td>\n",
       "      <td>3</td>\n",
       "      <td>3</td>\n",
       "    </tr>\n",
       "    <tr>\n",
       "      <th>3</th>\n",
       "      <td>741</td>\n",
       "      <td>2426</td>\n",
       "      <td>5</td>\n",
       "    </tr>\n",
       "    <tr>\n",
       "      <th>4</th>\n",
       "      <td>453</td>\n",
       "      <td>1263</td>\n",
       "      <td>4</td>\n",
       "    </tr>\n",
       "    <tr>\n",
       "      <th>5</th>\n",
       "      <td>11665</td>\n",
       "      <td>7717</td>\n",
       "      <td>5</td>\n",
       "    </tr>\n",
       "    <tr>\n",
       "      <th>...</th>\n",
       "      <td>...</td>\n",
       "      <td>...</td>\n",
       "      <td>...</td>\n",
       "    </tr>\n",
       "    <tr>\n",
       "      <th>743615</th>\n",
       "      <td>12832</td>\n",
       "      <td>2650</td>\n",
       "      <td>5</td>\n",
       "    </tr>\n",
       "    <tr>\n",
       "      <th>743616</th>\n",
       "      <td>7823</td>\n",
       "      <td>3050</td>\n",
       "      <td>4</td>\n",
       "    </tr>\n",
       "    <tr>\n",
       "      <th>743617</th>\n",
       "      <td>9347</td>\n",
       "      <td>18017</td>\n",
       "      <td>5</td>\n",
       "    </tr>\n",
       "    <tr>\n",
       "      <th>743618</th>\n",
       "      <td>10942</td>\n",
       "      <td>1443</td>\n",
       "      <td>4</td>\n",
       "    </tr>\n",
       "    <tr>\n",
       "      <th>743619</th>\n",
       "      <td>5165</td>\n",
       "      <td>772</td>\n",
       "      <td>3</td>\n",
       "    </tr>\n",
       "  </tbody>\n",
       "</table>\n",
       "<p>743619 rows × 3 columns</p>\n",
       "</div>"
      ],
      "text/plain": [
       "            0      1  2\n",
       "1       10855    938  4\n",
       "2       10027      3  3\n",
       "3         741   2426  5\n",
       "4         453   1263  4\n",
       "5       11665   7717  5\n",
       "...       ...    ... ..\n",
       "743615  12832   2650  5\n",
       "743616   7823   3050  4\n",
       "743617   9347  18017  5\n",
       "743618  10942   1443  4\n",
       "743619   5165    772  3\n",
       "\n",
       "[743619 rows x 3 columns]"
      ]
     },
     "execution_count": 3,
     "metadata": {},
     "output_type": "execute_result"
    }
   ],
   "source": [
    "user_book = pd.read_csv('Douban_book/user_book.csv', sep=',', header=None)\n",
    "user_book = user_book.drop([0])\n",
    "user_book"
   ]
  },
  {
   "cell_type": "code",
   "execution_count": 4,
   "metadata": {},
   "outputs": [],
   "source": [
    "X = user_book[[0,1]]\n",
    "y = user_book[[2]]\n",
    "X_train, X_test, y_train, y_test = train_test_split(X, y, test_size=0.2, random_state=42)\n",
    "rs = ShuffleSplit(n_splits=5, test_size=.1, random_state=42)"
   ]
  },
  {
   "cell_type": "code",
   "execution_count": 9,
   "metadata": {},
   "outputs": [
    {
     "name": "stdout",
     "output_type": "stream",
     "text": [
      "Fold 0:\n",
      "  Train: index=[471234 558998 472667 ... 365838 131932 121958]\n",
      "  Test:  index=[558636 534539 462604 ... 372350 374343 279203]\n",
      "Fold 1:\n",
      "  Train: index=[127568 112967 504443 ... 451083 140034 371321]\n",
      "  Test:  index=[402130 109055 444972 ... 162828 347908 523409]\n",
      "Fold 2:\n",
      "  Train: index=[283327 153395 461057 ... 431732 443952 397635]\n",
      "  Test:  index=[240055 153064 430501 ... 124841 292491    620]\n",
      "Fold 3:\n",
      "  Train: index=[397084 414551   5304 ... 107297 401646 310779]\n",
      "  Test:  index=[ 22262 278887 234850 ... 392469 490493  12167]\n",
      "Fold 4:\n",
      "  Train: index=[ 91192 197551 481901 ... 248644 312931 584392]\n",
      "  Test:  index=[ 68618   1538 383302 ... 230635 277865 495430]\n"
     ]
    }
   ],
   "source": [
    "for i, (train_index, test_index) in enumerate(rs.split(X_train)):\n",
    "    user_rating = pd.DataFrame(data = 0, index=np.array([i for i in range(1, 13025)]), columns= np.array([i for i in range(1, 22348)]))\n",
    "    print(f\"Fold {i}:\")\n",
    "    print(f\"  Train: index={train_index}\")\n",
    "    print(f\"  Test:  index={test_index}\")"
   ]
  },
  {
   "cell_type": "code",
   "execution_count": 18,
   "metadata": {},
   "outputs": [],
   "source": [
    "# 組成user是否幫book rating的matrix\n",
    "\n",
    "user_rating = pd.DataFrame(data = 0, index=np.array([i for i in range(1, 13025)]), columns= np.array([i for i in range(1, 22348)]))\n",
    "user_rating\n",
    "\n",
    "for i in range(len(X_train)):\n",
    "    user_rating.loc[X_train.iloc[i][0],X_train.iloc[i][1]] = y_train.iloc[i][2]\n",
    "\n",
    "user_rating.to_csv(\"user_rating.csv\")\n",
    "# pd.read_csv(\"user_rating.csv\")"
   ]
  },
  {
   "cell_type": "code",
   "execution_count": 5,
   "metadata": {},
   "outputs": [
    {
     "data": {
      "text/plain": [
       "array([[1, 1, 1, ..., 1, 1, 1],\n",
       "       [1, 1, 1, ..., 1, 1, 1],\n",
       "       [1, 1, 1, ..., 1, 1, 1],\n",
       "       ...,\n",
       "       [1, 1, 1, ..., 1, 1, 1],\n",
       "       [1, 1, 1, ..., 1, 1, 1],\n",
       "       [1, 1, 1, ..., 1, 1, 1]])"
      ]
     },
     "execution_count": 5,
     "metadata": {},
     "output_type": "execute_result"
    }
   ],
   "source": [
    "user_rating = np.ones((13024, 22347), dtype=int)\n",
    "user_rating"
   ]
  },
  {
   "cell_type": "code",
   "execution_count": 5,
   "metadata": {},
   "outputs": [
    {
     "data": {
      "text/plain": [
       "array([[0, 0, 0, ..., 0, 0, 0],\n",
       "       [4, 5, 0, ..., 0, 0, 0],\n",
       "       [0, 0, 0, ..., 0, 0, 0],\n",
       "       ...,\n",
       "       [0, 0, 0, ..., 0, 0, 0],\n",
       "       [0, 0, 0, ..., 0, 0, 0],\n",
       "       [4, 0, 3, ..., 0, 0, 0]])"
      ]
     },
     "execution_count": 5,
     "metadata": {},
     "output_type": "execute_result"
    }
   ],
   "source": [
    "user_rating = np.load('user_rating.npy')\n",
    "user_rating"
   ]
  },
  {
   "cell_type": "code",
   "execution_count": 24,
   "metadata": {},
   "outputs": [],
   "source": [
    "UCF_cs = cosine_similarity(user_rating)\n",
    "np.save('cs_user_rating.npy', UCF_cs)\n",
    "# np.save('cs_user_rating.npy', UCF_cs) # save\n",
    "# cs_user_rating = np.load('cs_user_rating.npy') # load\n",
    "# cs_user_rating"
   ]
  },
  {
   "cell_type": "code",
   "execution_count": 6,
   "metadata": {},
   "outputs": [
    {
     "data": {
      "text/plain": [
       "array([[1.        , 0.01953982, 0.03922323, ..., 0.05922242, 0.        ,\n",
       "        0.01245339],\n",
       "       [0.01953982, 1.        , 0.02874056, ..., 0.07550701, 0.02578081,\n",
       "        0.01460022],\n",
       "       [0.03922323, 0.02874056, 1.        , ..., 0.        , 0.03450071,\n",
       "        0.01465386],\n",
       "       ...,\n",
       "       [0.05922242, 0.07550701, 0.        , ..., 1.        , 0.03750623,\n",
       "        0.        ],\n",
       "       [0.        , 0.02578081, 0.03450071, ..., 0.03750623, 1.        ,\n",
       "        0.05257914],\n",
       "       [0.01245339, 0.01460022, 0.01465386, ..., 0.        , 0.05257914,\n",
       "        1.        ]])"
      ]
     },
     "execution_count": 6,
     "metadata": {},
     "output_type": "execute_result"
    }
   ],
   "source": [
    "UCF_cs = np.load('cs_user_rating.npy') \n",
    "UCF_cs"
   ]
  },
  {
   "cell_type": "code",
   "execution_count": 11,
   "metadata": {},
   "outputs": [
    {
     "data": {
      "text/html": [
       "<div>\n",
       "<style scoped>\n",
       "    .dataframe tbody tr th:only-of-type {\n",
       "        vertical-align: middle;\n",
       "    }\n",
       "\n",
       "    .dataframe tbody tr th {\n",
       "        vertical-align: top;\n",
       "    }\n",
       "\n",
       "    .dataframe thead th {\n",
       "        text-align: right;\n",
       "    }\n",
       "</style>\n",
       "<table border=\"1\" class=\"dataframe\">\n",
       "  <thead>\n",
       "    <tr style=\"text-align: right;\">\n",
       "      <th></th>\n",
       "      <th>0</th>\n",
       "      <th>1</th>\n",
       "    </tr>\n",
       "  </thead>\n",
       "  <tbody>\n",
       "    <tr>\n",
       "      <th>666751</th>\n",
       "      <td>8005</td>\n",
       "      <td>19377</td>\n",
       "    </tr>\n",
       "    <tr>\n",
       "      <th>544565</th>\n",
       "      <td>4914</td>\n",
       "      <td>5531</td>\n",
       "    </tr>\n",
       "    <tr>\n",
       "      <th>54400</th>\n",
       "      <td>1080</td>\n",
       "      <td>4275</td>\n",
       "    </tr>\n",
       "    <tr>\n",
       "      <th>63088</th>\n",
       "      <td>3837</td>\n",
       "      <td>3941</td>\n",
       "    </tr>\n",
       "    <tr>\n",
       "      <th>38551</th>\n",
       "      <td>9253</td>\n",
       "      <td>8267</td>\n",
       "    </tr>\n",
       "  </tbody>\n",
       "</table>\n",
       "</div>"
      ],
      "text/plain": [
       "           0      1\n",
       "666751  8005  19377\n",
       "544565  4914   5531\n",
       "54400   1080   4275\n",
       "63088   3837   3941\n",
       "38551   9253   8267"
      ]
     },
     "execution_count": 11,
     "metadata": {},
     "output_type": "execute_result"
    }
   ],
   "source": [
    "X_val.head(5)"
   ]
  },
  {
   "cell_type": "code",
   "execution_count": 13,
   "metadata": {},
   "outputs": [],
   "source": [
    "def predict(x, cs, user_rating):\n",
    "    user, book = x[0],x[1]\n",
    "    most_similar_user = np.argpartition(cs[user-1],-2)[-2]\n",
    "    pred = user_rating[most_similar_user,book-1]\n",
    "    return pred"
   ]
  },
  {
   "cell_type": "code",
   "execution_count": 14,
   "metadata": {},
   "outputs": [],
   "source": [
    "X_val['pred'] = X_val.apply(predict, args=(UCF_cs, user_rating), axis = 1)"
   ]
  },
  {
   "cell_type": "code",
   "execution_count": 2,
   "metadata": {},
   "outputs": [
    {
     "ename": "NameError",
     "evalue": "name 'X_val' is not defined",
     "output_type": "error",
     "traceback": [
      "\u001b[0;31m---------------------------------------------------------------------------\u001b[0m",
      "\u001b[0;31mNameError\u001b[0m                                 Traceback (most recent call last)",
      "Cell \u001b[0;32mIn[2], line 1\u001b[0m\n\u001b[0;32m----> 1\u001b[0m X_val[\u001b[39m'\u001b[39m\u001b[39mpred\u001b[39m\u001b[39m'\u001b[39m]\n",
      "\u001b[0;31mNameError\u001b[0m: name 'X_val' is not defined"
     ]
    }
   ],
   "source": [
    "X_val['pred']"
   ]
  },
  {
   "cell_type": "code",
   "execution_count": 23,
   "metadata": {},
   "outputs": [
    {
     "data": {
      "text/plain": [
       "(59490,)"
      ]
     },
     "execution_count": 23,
     "metadata": {},
     "output_type": "execute_result"
    }
   ],
   "source": [
    "np.array(X_val['pred']).shape"
   ]
  },
  {
   "cell_type": "code",
   "execution_count": 24,
   "metadata": {},
   "outputs": [
    {
     "data": {
      "text/plain": [
       "1451"
      ]
     },
     "execution_count": 24,
     "metadata": {},
     "output_type": "execute_result"
    }
   ],
   "source": [
    "(X_val['pred'] == np.array(y_val[2])).sum()"
   ]
  },
  {
   "cell_type": "code",
   "execution_count": 16,
   "metadata": {},
   "outputs": [
    {
     "data": {
      "text/html": [
       "<div>\n",
       "<style scoped>\n",
       "    .dataframe tbody tr th:only-of-type {\n",
       "        vertical-align: middle;\n",
       "    }\n",
       "\n",
       "    .dataframe tbody tr th {\n",
       "        vertical-align: top;\n",
       "    }\n",
       "\n",
       "    .dataframe thead th {\n",
       "        text-align: right;\n",
       "    }\n",
       "</style>\n",
       "<table border=\"1\" class=\"dataframe\">\n",
       "  <thead>\n",
       "    <tr style=\"text-align: right;\">\n",
       "      <th></th>\n",
       "      <th>0</th>\n",
       "      <th>1</th>\n",
       "      <th>pred</th>\n",
       "    </tr>\n",
       "  </thead>\n",
       "  <tbody>\n",
       "    <tr>\n",
       "      <th>334641</th>\n",
       "      <td>1837</td>\n",
       "      <td>984</td>\n",
       "      <td>5</td>\n",
       "    </tr>\n",
       "    <tr>\n",
       "      <th>717467</th>\n",
       "      <td>11534</td>\n",
       "      <td>11074</td>\n",
       "      <td>5</td>\n",
       "    </tr>\n",
       "    <tr>\n",
       "      <th>101418</th>\n",
       "      <td>3905</td>\n",
       "      <td>1195</td>\n",
       "      <td>4</td>\n",
       "    </tr>\n",
       "    <tr>\n",
       "      <th>478452</th>\n",
       "      <td>5149</td>\n",
       "      <td>69</td>\n",
       "      <td>3</td>\n",
       "    </tr>\n",
       "    <tr>\n",
       "      <th>556305</th>\n",
       "      <td>5282</td>\n",
       "      <td>13</td>\n",
       "      <td>4</td>\n",
       "    </tr>\n",
       "    <tr>\n",
       "      <th>...</th>\n",
       "      <td>...</td>\n",
       "      <td>...</td>\n",
       "      <td>...</td>\n",
       "    </tr>\n",
       "    <tr>\n",
       "      <th>13957</th>\n",
       "      <td>7916</td>\n",
       "      <td>6720</td>\n",
       "      <td>5</td>\n",
       "    </tr>\n",
       "    <tr>\n",
       "      <th>352609</th>\n",
       "      <td>10529</td>\n",
       "      <td>1468</td>\n",
       "      <td>4</td>\n",
       "    </tr>\n",
       "    <tr>\n",
       "      <th>287453</th>\n",
       "      <td>817</td>\n",
       "      <td>22</td>\n",
       "      <td>5</td>\n",
       "    </tr>\n",
       "    <tr>\n",
       "      <th>394003</th>\n",
       "      <td>10581</td>\n",
       "      <td>760</td>\n",
       "      <td>4</td>\n",
       "    </tr>\n",
       "    <tr>\n",
       "      <th>534492</th>\n",
       "      <td>5508</td>\n",
       "      <td>4</td>\n",
       "      <td>4</td>\n",
       "    </tr>\n",
       "  </tbody>\n",
       "</table>\n",
       "<p>3180 rows × 3 columns</p>\n",
       "</div>"
      ],
      "text/plain": [
       "            0      1  pred\n",
       "334641   1837    984     5\n",
       "717467  11534  11074     5\n",
       "101418   3905   1195     4\n",
       "478452   5149     69     3\n",
       "556305   5282     13     4\n",
       "...       ...    ...   ...\n",
       "13957    7916   6720     5\n",
       "352609  10529   1468     4\n",
       "287453    817     22     5\n",
       "394003  10581    760     4\n",
       "534492   5508      4     4\n",
       "\n",
       "[3180 rows x 3 columns]"
      ]
     },
     "execution_count": 16,
     "metadata": {},
     "output_type": "execute_result"
    }
   ],
   "source": [
    "X_val[X_val['pred'] != 0]"
   ]
  }
 ],
 "metadata": {
  "kernelspec": {
   "display_name": "geometric",
   "language": "python",
   "name": "geometric"
  },
  "language_info": {
   "codemirror_mode": {
    "name": "ipython",
    "version": 3
   },
   "file_extension": ".py",
   "mimetype": "text/x-python",
   "name": "python",
   "nbconvert_exporter": "python",
   "pygments_lexer": "ipython3",
   "version": "3.10.9"
  }
 },
 "nbformat": 4,
 "nbformat_minor": 4
}
