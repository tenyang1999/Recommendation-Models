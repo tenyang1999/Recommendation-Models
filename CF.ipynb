{
 "cells": [
  {
   "cell_type": "code",
   "execution_count": null,
   "metadata": {},
   "outputs": [],
   "source": [
    "import pandas as pd\n",
    "from numpy.linalg import norm\n",
    "import numpy as np\n",
    "import torch\n",
    "from sklearn.model_selection import train_test_split\n",
    "from sklearn.metrics.pairwise import cosine_similarity\n",
    "from scipy import sparse\n",
    "from sklearn.metrics import mean_squared_error,recall_score,ndcg_score\n",
    "from sklearn.model_selection import ShuffleSplit\n",
    "from torch_geometric import data"
   ]
  },
  {
   "cell_type": "code",
   "execution_count": null,
   "metadata": {},
   "outputs": [],
   "source": [
    "'''\n",
    "np.corrcoef\n",
    "Return Pearson product-moment correlation coefficients.\n",
    "'''"
   ]
  },
  {
   "cell_type": "code",
   "execution_count": null,
   "metadata": {},
   "outputs": [],
   "source": [
    "def Average(lst): \n",
    "\treturn sum(lst) / len(lst) "
   ]
  },
  {
   "cell_type": "code",
   "execution_count": null,
   "metadata": {},
   "outputs": [],
   "source": [
    "user_book = np.load('Douban_book/user_book.npy')\n",
    "\n",
    "X = user_book[:,:2]\n",
    "y = user_book[:,-1]\n",
    "# X_train, X_test, y_train, y_test = train_test_split(X, y, test_size=0.2, random_state=42)\n",
    "rs = ShuffleSplit(n_splits=5, test_size=.1, random_state=42)"
   ]
  },
  {
   "cell_type": "code",
   "execution_count": 18,
   "metadata": {},
   "outputs": [],
   "source": [
    "user_movie = np.load('Movielens/user_movie.npy')\n",
    "\n",
    "X = user_movie[:,:2]\n",
    "y = user_movie[:,-1]\n",
    "# X_train, X_test, y_train, y_test = train_test_split(X, y, test_size=0.2, random_state=42)\n",
    "rs = ShuffleSplit(n_splits=5, test_size=.1, random_state=42)"
   ]
  },
  {
   "cell_type": "code",
   "execution_count": 19,
   "metadata": {},
   "outputs": [
    {
     "name": "stdout",
     "output_type": "stream",
     "text": [
      "RMSE: 2.589, Recall: 0.0864, NDCG: 0.3492\n",
      "RMSE: 2.5827, Recall: 0.0888, NDCG: 0.3562\n",
      "RMSE: 2.5829, Recall: 0.0822, NDCG: 0.3533\n",
      "RMSE: 2.5605, Recall: 0.0871, NDCG: 0.3653\n",
      "RMSE: 2.5796, Recall: 0.0919, NDCG: 0.3546\n",
      "Average RMSE: 2.5789400000000002, Average Recall: 0.08728, Average NDCG: 0.35572\n"
     ]
    }
   ],
   "source": [
    "#User-based CF\n",
    "RMSE_M = []\n",
    "recall_M = []\n",
    "NDCG_M = []\n",
    "for i, (train_index, test_index) in enumerate(rs.split(X)):\n",
    "    X_train, y_train = X[train_index], y[train_index]\n",
    "    X_test, y_test = X[test_index], y[test_index]\n",
    "\n",
    "    user_rating = np.zeros((943, 1682), dtype=int)\n",
    "    for i in range(y_train.shape[0]):\n",
    "        user, book = X_train[i]\n",
    "        user_rating[user-1, book-1] = y_train[i]\n",
    "    \n",
    "    UCF_cs = np.corrcoef(user_rating)\n",
    "\n",
    "    predict = []\n",
    "    for i in range(X_test.shape[0]):\n",
    "        user, book =  X_test[i]\n",
    "        most_similar_user = np.argpartition(UCF_cs[user-1],-6)[-6:-1]\n",
    "        pred = user_rating[most_similar_user,book-1].sum()/5\n",
    "        predict.append(pred)\n",
    "    \n",
    "    RMSE = round(mean_squared_error(np.array(predict),y_test, squared=False),4)\n",
    "    RMSE_M.append(RMSE)\n",
    "    recall = round(recall_score(np.round(np.array(predict)),y_test, average='micro'),4)\n",
    "    recall_M.append(recall)\n",
    "    NDCG = round(ndcg_score(np.array([predict]),y_test.reshape(1, -1), k=10),4)\n",
    "    NDCG_M.append(NDCG) \n",
    "    print(f\"RMSE: {RMSE}, Recall: {recall}, NDCG: {NDCG}\")\n",
    "print(f\"Average RMSE: {Average(RMSE_M)}, Average Recall: {Average(recall_M)}, Average NDCG: {Average(NDCG_M)}\")    \n"
   ]
  },
  {
   "cell_type": "code",
   "execution_count": null,
   "metadata": {},
   "outputs": [],
   "source": [
    "# 扣除所有使用者的加總平均，undo\n",
    "mean_by_user = user_rating.sum(axis=1)/np.count_nonzero(user_rating, axis=1)\n",
    "mean_by_user\n",
    "none_zero = np.where(user_rating > 0)\n",
    "none_zero[]"
   ]
  },
  {
   "cell_type": "code",
   "execution_count": null,
   "metadata": {},
   "outputs": [],
   "source": [
    "UFC = np.load('cs_user_rating.npy')\n",
    "UFC"
   ]
  },
  {
   "cell_type": "code",
   "execution_count": null,
   "metadata": {},
   "outputs": [],
   "source": []
  }
 ],
 "metadata": {
  "kernelspec": {
   "display_name": "Recsys",
   "language": "python",
   "name": "python3"
  },
  "language_info": {
   "codemirror_mode": {
    "name": "ipython",
    "version": 3
   },
   "file_extension": ".py",
   "mimetype": "text/x-python",
   "name": "python",
   "nbconvert_exporter": "python",
   "pygments_lexer": "ipython3",
   "version": "3.10.11"
  },
  "orig_nbformat": 4
 },
 "nbformat": 4,
 "nbformat_minor": 2
}
