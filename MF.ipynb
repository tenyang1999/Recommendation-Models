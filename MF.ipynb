{
 "cells": [
  {
   "cell_type": "code",
   "execution_count": 5,
   "metadata": {},
   "outputs": [
    {
     "data": {
      "text/plain": [
       "'\\nhttps://github.com/ibayer/fastFM\\n'"
      ]
     },
     "execution_count": 5,
     "metadata": {},
     "output_type": "execute_result"
    }
   ],
   "source": [
    "# from fastFM import als \n",
    "import pandas as pd\n",
    "from numpy.linalg import norm\n",
    "import numpy as np\n",
    "from sklearn.model_selection import train_test_split\n",
    "from sklearn.metrics.pairwise import cosine_similarity\n",
    "from scipy import sparse\n",
    "from sklearn.metrics import mean_squared_error,recall_score,ndcg_score\n",
    "from sklearn.model_selection import ShuffleSplit\n",
    "from scipy.sparse import csc_matrix\n",
    "\n",
    "'''\n",
    "https://github.com/ibayer/fastFM\n",
    "'''"
   ]
  },
  {
   "cell_type": "code",
   "execution_count": 6,
   "metadata": {},
   "outputs": [],
   "source": [
    "import pywFM\n",
    "import numpy as np\n",
    "import pandas as pd"
   ]
  },
  {
   "cell_type": "code",
   "execution_count": 25,
   "metadata": {},
   "outputs": [],
   "source": [
    "movie_genre = np.load('../hw3_data/Movielens/movie_genre.npy')\n",
    "movie_movie = np.load('../hw3_data/Movielens/movie_movie.npy')\n",
    "user_age = np.load('../hw3_data/Movielens/user_age.npy')\n",
    "user_movie = np.load('../hw3_data/Movielens/user_movie.npy')\n",
    "user_occupation = np.load('../hw3_data/Movielens/user_occupation.npy')\n",
    "user_user = np.load('../hw3_data/Movielens/user_user.npy')\n",
    "entity_user = 943\n",
    "entity_item = 1682\n",
    "age, occupation, genre = 8, 21, 18"
   ]
  },
  {
   "cell_type": "code",
   "execution_count": 20,
   "metadata": {},
   "outputs": [],
   "source": [
    "rs = ShuffleSplit(n_splits=5, test_size=.1, random_state=42)\n",
    "for i, (train_index, test_index) in enumerate(rs.split(X)):\n",
    "    X_train, y_train = X[train_index], y[train_index]\n",
    "    X_test, y_test = X[test_index], y[test_index]"
   ]
  },
  {
   "cell_type": "code",
   "execution_count": 45,
   "metadata": {},
   "outputs": [
    {
     "data": {
      "text/plain": [
       "(627, 649)"
      ]
     },
     "execution_count": 45,
     "metadata": {},
     "output_type": "execute_result"
    }
   ],
   "source": [
    "user,item = X_train[0]\n",
    "user,item"
   ]
  },
  {
   "cell_type": "code",
   "execution_count": 48,
   "metadata": {},
   "outputs": [],
   "source": [
    "fea_age = np.zeros((X_train.shape[0], age), dtype=int)\n",
    "fea_occupation = np.zeros((X_train.shape[0], occupation), dtype=int)\n",
    "fea_genre = np.zeros((X_train.shape[0], genre), dtype=int)"
   ]
  },
  {
   "cell_type": "code",
   "execution_count": 49,
   "metadata": {},
   "outputs": [],
   "source": [
    "ua = user_age[user_age[:,0] == user][:,1]\n",
    "fea_age[0,ua-1] = 1\n",
    "\n",
    "uo = user_occupation[user_occupation[:,0] == user][:,1]\n",
    "fea_occupation[0,uo-1] = 1\n",
    "\n",
    "mg = movie_genre[movie_genre[:,0] == item][:,1]\n",
    "fea_genre[0,mg-1] = 1"
   ]
  },
  {
   "cell_type": "code",
   "execution_count": null,
   "metadata": {},
   "outputs": [],
   "source": []
  }
 ],
 "metadata": {
  "kernelspec": {
   "display_name": "python36",
   "language": "python",
   "name": "python3"
  },
  "language_info": {
   "codemirror_mode": {
    "name": "ipython",
    "version": 3
   },
   "file_extension": ".py",
   "mimetype": "text/x-python",
   "name": "python",
   "nbconvert_exporter": "python",
   "pygments_lexer": "ipython3",
   "version": "3.10.11"
  },
  "orig_nbformat": 4
 },
 "nbformat": 4,
 "nbformat_minor": 2
}
