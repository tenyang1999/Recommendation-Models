{
 "cells": [
  {
   "cell_type": "code",
   "execution_count": 1,
   "metadata": {},
   "outputs": [
    {
     "data": {
      "text/plain": [
       "'\\nhttps://github.com/ibayer/fastFM\\n'"
      ]
     },
     "execution_count": 1,
     "metadata": {},
     "output_type": "execute_result"
    }
   ],
   "source": [
    "# from fastFM import als \n",
    "import pandas as pd\n",
    "from numpy.linalg import norm\n",
    "import numpy as np\n",
    "from sklearn.model_selection import train_test_split\n",
    "from sklearn.metrics.pairwise import cosine_similarity\n",
    "from scipy import sparse\n",
    "from sklearn.metrics import mean_squared_error,recall_score,ndcg_score\n",
    "from sklearn.model_selection import ShuffleSplit\n",
    "from scipy.sparse import csc_matrix\n",
    "\n",
    "'''\n",
    "https://github.com/ibayer/fastFM\n",
    "'''"
   ]
  },
  {
   "cell_type": "code",
   "execution_count": 2,
   "metadata": {},
   "outputs": [],
   "source": [
    "import pywFM\n",
    "import numpy as np\n",
    "import pandas as pd"
   ]
  },
  {
   "cell_type": "code",
   "execution_count": 81,
   "metadata": {},
   "outputs": [],
   "source": [
    "rs = ShuffleSplit(n_splits=5, test_size=.1, random_state=42)\n",
    "for i, (train_index, test_index) in enumerate(rs.split(X)):\n",
    "    X_train, y_train = X[train_index], y[train_index]\n",
    "    X_test, y_test = X[test_index], y[test_index]"
   ]
  },
  {
   "cell_type": "code",
   "execution_count": 3,
   "metadata": {},
   "outputs": [],
   "source": [
    "movie_genre = np.load('../hw3_data/Movielens/movie_genre.npy')\n",
    "movie_movie = np.load('../hw3_data/Movielens/movie_movie.npy')\n",
    "user_age = np.load('../hw3_data/Movielens/user_age.npy')\n",
    "user_movie = np.load('../hw3_data/Movielens/user_movie.npy')\n",
    "user_occupation = np.load('../hw3_data/Movielens/user_occupation.npy')\n",
    "user_user = np.load('../hw3_data/Movielens/user_user.npy')\n",
    "\n",
    "X = user_movie[:,:2]\n",
    "y = user_movie[:,-1]\n",
    "entity_user = 943\n",
    "entity_item = 1682\n",
    "age, occupation, genre = 8, 21, 18 # entity amount "
   ]
  },
  {
   "cell_type": "code",
   "execution_count": 17,
   "metadata": {},
   "outputs": [
    {
     "data": {
      "text/plain": [
       "(1, 5297)"
      ]
     },
     "execution_count": 17,
     "metadata": {},
     "output_type": "execute_result"
    }
   ],
   "source": [
    "def get_embedding(data, ):\n",
    "    user, item = data\n",
    "    user_index = np.zeros((1, entity_user), dtype=int)\n",
    "    user_index[0,user-1] = 1\n",
    "\n",
    "    item_index = np.zeros((1, entity_item), dtype=int)\n",
    "    item_index[0, item-1] = 1\n",
    "\n",
    "    fea_age = np.zeros((1, age), dtype=int)\n",
    "    ua = user_age[user_age[:,0] == user][:,1]\n",
    "    fea_age[0, ua-1] = 1\n",
    "\n",
    "    fea_occupation = np.zeros((1, occupation), dtype=int)\n",
    "    uo = user_occupation[user_occupation[:,0] == user][:,1]\n",
    "    fea_occupation[0, uo-1] = 1\n",
    "\n",
    "    fea_genre = np.zeros((1, genre), dtype=int)\n",
    "    mg = movie_genre[movie_genre[:,0] == item][:,1]\n",
    "    fea_genre[0, mg-1] = 1\n",
    "\n",
    "    user_knn = np.zeros((1, entity_user), dtype=int)\n",
    "    uu = user_user[user_user[:,0] == user][:,1].astype(int)\n",
    "    user_knn[0, uu-1] = 1\n",
    "\n",
    "    item_knn = np.zeros((1, entity_item), dtype=int)\n",
    "    mm = movie_movie[movie_movie[:,0] == item][:,1].astype(int)\n",
    "    item_knn[0, mm-1] = 1\n",
    "    \n",
    "    train_example = np.concatenate((user_index, item_index, fea_age, fea_occupation, fea_genre, user_knn, item_knn), axis=1)\n",
    "\n",
    "    return train_example \n",
    "\n",
    "\n",
    "embed_X = np.apply_along_axis(get_embedding, 1, X)\n",
    "# np.save(\"../hw3_data/Movielens/embedding.npy\",embed_X)"
   ]
  },
  {
   "cell_type": "code",
   "execution_count": 4,
   "metadata": {},
   "outputs": [],
   "source": [
    "embed_X = np.load(\"../hw3_data/Movielens/embedding.npy\")"
   ]
  },
  {
   "cell_type": "code",
   "execution_count": 32,
   "metadata": {},
   "outputs": [
    {
     "data": {
      "text/plain": [
       "(99543, 5297)"
      ]
     },
     "execution_count": 32,
     "metadata": {},
     "output_type": "execute_result"
    }
   ],
   "source": [
    "embed_X.shape"
   ]
  },
  {
   "cell_type": "code",
   "execution_count": 74,
   "metadata": {},
   "outputs": [
    {
     "data": {
      "text/plain": [
       "(627, 649)"
      ]
     },
     "execution_count": 74,
     "metadata": {},
     "output_type": "execute_result"
    }
   ],
   "source": [
    "user_index, item_index, fea_age, fea_occupation, fea_genre, user_knn, item_knn"
   ]
  },
  {
   "cell_type": "markdown",
   "metadata": {},
   "source": []
  },
  {
   "cell_type": "code",
   "execution_count": 33,
   "metadata": {},
   "outputs": [
    {
     "ename": "OSError",
     "evalue": "`LIBFM_PATH` is not set. Please install libFM and set the path variable (https://github.com/jfloff/pywFM#installing).",
     "output_type": "error",
     "traceback": [
      "\u001b[0;31m---------------------------------------------------------------------------\u001b[0m",
      "\u001b[0;31mOSError\u001b[0m                                   Traceback (most recent call last)",
      "Cell \u001b[0;32mIn[33], line 1\u001b[0m\n\u001b[0;32m----> 1\u001b[0m fm \u001b[39m=\u001b[39m pywFM\u001b[39m.\u001b[39;49mFM(task\u001b[39m=\u001b[39;49m\u001b[39m'\u001b[39;49m\u001b[39mregression\u001b[39;49m\u001b[39m'\u001b[39;49m, num_iter\u001b[39m=\u001b[39;49m\u001b[39m50\u001b[39;49m)\n\u001b[1;32m      2\u001b[0m model \u001b[39m=\u001b[39m fm\u001b[39m.\u001b[39mrun(embed_X[:\u001b[39m80000\u001b[39m], y[:\u001b[39m80000\u001b[39m], embed_X[\u001b[39m80000\u001b[39m:], target[\u001b[39m80000\u001b[39m:])\n\u001b[1;32m      3\u001b[0m \u001b[39mprint\u001b[39m(model\u001b[39m.\u001b[39mpredictions)\n",
      "File \u001b[0;32m~/miniconda3/envs/Recsys/lib/python3.10/site-packages/pywFM/__init__.py:105\u001b[0m, in \u001b[0;36mFM.__init__\u001b[0;34m(self, task, num_iter, init_stdev, k0, k1, k2, learning_method, learn_rate, r0_regularization, r1_regularization, r2_regularization, rlog, verbose, silent, temp_path)\u001b[0m\n\u001b[1;32m    103\u001b[0m \u001b[39mself\u001b[39m\u001b[39m.\u001b[39m__libfm_path \u001b[39m=\u001b[39m os\u001b[39m.\u001b[39menviron\u001b[39m.\u001b[39mget(\u001b[39m'\u001b[39m\u001b[39mLIBFM_PATH\u001b[39m\u001b[39m'\u001b[39m)\n\u001b[1;32m    104\u001b[0m \u001b[39mif\u001b[39;00m \u001b[39mself\u001b[39m\u001b[39m.\u001b[39m__libfm_path \u001b[39mis\u001b[39;00m \u001b[39mNone\u001b[39;00m:\n\u001b[0;32m--> 105\u001b[0m     \u001b[39mraise\u001b[39;00m \u001b[39mOSError\u001b[39;00m(\u001b[39m\"\u001b[39m\u001b[39m`LIBFM_PATH` is not set. Please install libFM and set the path variable (https://github.com/jfloff/pywFM#installing).\u001b[39m\u001b[39m\"\u001b[39m)\n",
      "\u001b[0;31mOSError\u001b[0m: `LIBFM_PATH` is not set. Please install libFM and set the path variable (https://github.com/jfloff/pywFM#installing)."
     ]
    }
   ],
   "source": [
    "fm = pywFM.FM(task='regression', num_iter=50)\n",
    "model = fm.run(embed_X[:80000], y[:80000], embed_X[80000:], target[80000:])\n",
    "print(model.predictions)\n",
    "# you can also get the model weights\n",
    "print(model.weights)\n"
   ]
  }
 ],
 "metadata": {
  "kernelspec": {
   "display_name": "python36",
   "language": "python",
   "name": "python3"
  },
  "language_info": {
   "codemirror_mode": {
    "name": "ipython",
    "version": 3
   },
   "file_extension": ".py",
   "mimetype": "text/x-python",
   "name": "python",
   "nbconvert_exporter": "python",
   "pygments_lexer": "ipython3",
   "version": "3.10.11"
  },
  "orig_nbformat": 4
 },
 "nbformat": 4,
 "nbformat_minor": 2
}
