{
 "cells": [
  {
   "cell_type": "code",
   "execution_count": 42,
   "metadata": {},
   "outputs": [
    {
     "data": {
      "text/plain": [
       "'\\nhttps://github.com/ibayer/fastFM\\n'"
      ]
     },
     "execution_count": 42,
     "metadata": {},
     "output_type": "execute_result"
    }
   ],
   "source": [
    "# from fastFM import als \n",
    "import pandas as pd\n",
    "from numpy.linalg import norm\n",
    "import numpy as np\n",
    "from sklearn.model_selection import train_test_split\n",
    "from sklearn.metrics.pairwise import cosine_similarity\n",
    "from scipy import sparse\n",
    "from sklearn.metrics import mean_squared_error,recall_score,ndcg_score\n",
    "from sklearn.model_selection import ShuffleSplit\n",
    "from scipy.sparse import csc_matrix\n",
    "\n",
    "'''\n",
    "https://github.com/ibayer/fastFM\n",
    "'''"
   ]
  },
  {
   "cell_type": "code",
   "execution_count": 43,
   "metadata": {},
   "outputs": [],
   "source": [
    "import pywFM\n",
    "import numpy as np\n",
    "import pandas as pd"
   ]
  },
  {
   "cell_type": "code",
   "execution_count": 80,
   "metadata": {},
   "outputs": [],
   "source": [
    "movie_genre = np.load('../hw3_data/Movielens/movie_genre.npy')\n",
    "movie_movie = np.load('../hw3_data/Movielens/movie_movie.npy')\n",
    "user_age = np.load('../hw3_data/Movielens/user_age.npy')\n",
    "user_movie = np.load('../hw3_data/Movielens/user_movie.npy')\n",
    "user_occupation = np.load('../hw3_data/Movielens/user_occupation.npy')\n",
    "user_user = np.load('../hw3_data/Movielens/user_user.npy')\n",
    "\n",
    "X = user_movie[:,:2]\n",
    "y = user_movie[:,-1]\n",
    "entity_user = 943\n",
    "entity_item = 1682\n",
    "age, occupation, genre = 8, 21, 18 # entity amount "
   ]
  },
  {
   "cell_type": "code",
   "execution_count": 81,
   "metadata": {},
   "outputs": [],
   "source": [
    "rs = ShuffleSplit(n_splits=5, test_size=.1, random_state=42)\n",
    "for i, (train_index, test_index) in enumerate(rs.split(X)):\n",
    "    X_train, y_train = X[train_index], y[train_index]\n",
    "    X_test, y_test = X[test_index], y[test_index]"
   ]
  },
  {
   "cell_type": "code",
   "execution_count": null,
   "metadata": {},
   "outputs": [],
   "source": [
    "def get_embedding(X, )"
   ]
  },
  {
   "cell_type": "code",
   "execution_count": 82,
   "metadata": {},
   "outputs": [
    {
     "ename": "KeyboardInterrupt",
     "evalue": "",
     "output_type": "error",
     "traceback": [
      "\u001b[0;31m---------------------------------------------------------------------------\u001b[0m",
      "\u001b[0;31mKeyboardInterrupt\u001b[0m                         Traceback (most recent call last)",
      "Cell \u001b[0;32mIn[82], line 28\u001b[0m\n\u001b[1;32m     25\u001b[0m user_knn[i, uu\u001b[39m-\u001b[39m\u001b[39m1\u001b[39m] \u001b[39m=\u001b[39m \u001b[39m1\u001b[39m\n\u001b[1;32m     27\u001b[0m item_knn \u001b[39m=\u001b[39m np\u001b[39m.\u001b[39mzeros((length, entity_item), dtype\u001b[39m=\u001b[39m\u001b[39mint\u001b[39m)\n\u001b[0;32m---> 28\u001b[0m mm \u001b[39m=\u001b[39m movie_movie[movie_movie[:,\u001b[39m0\u001b[39;49m] \u001b[39m==\u001b[39;49m item][:,\u001b[39m1\u001b[39;49m]\u001b[39m.\u001b[39;49mastype(\u001b[39mint\u001b[39;49m)\n\u001b[1;32m     29\u001b[0m item_knn[i, mm\u001b[39m-\u001b[39m\u001b[39m1\u001b[39m] \u001b[39m=\u001b[39m \u001b[39m1\u001b[39m\n",
      "\u001b[0;31mKeyboardInterrupt\u001b[0m: "
     ]
    }
   ],
   "source": [
    "length = y_train.shape[0]\n",
    "for i in range(length):\n",
    "        user, item = X_train[i]\n",
    "        \n",
    "        user_index = np.zeros((length, entity_user), dtype=int)\n",
    "        user_index[i, user-1] = 1\n",
    "\n",
    "        item_index = np.zeros((length, entity_item), dtype=int)\n",
    "        item_index[i, item-1] = 1\n",
    "\n",
    "        fea_age = np.zeros((length, age), dtype=int)\n",
    "        ua = user_age[user_age[:,0] == user][:,1]\n",
    "        fea_age[i, ua-1] = 1\n",
    "\n",
    "        fea_occupation = np.zeros((length, occupation), dtype=int)\n",
    "        uo = user_occupation[user_occupation[:,0] == user][:,1]\n",
    "        fea_occupation[i, uo-1] = 1\n",
    "\n",
    "        fea_genre = np.zeros((length, genre), dtype=int)\n",
    "        mg = movie_genre[movie_genre[:,0] == item][:,1]\n",
    "        fea_genre[i, mg-1] = 1\n",
    "\n",
    "        user_knn = np.zeros((length, entity_user), dtype=int)\n",
    "        uu = user_user[user_user[:,0] == user][:,1].astype(int)\n",
    "        user_knn[i, uu-1] = 1\n",
    "\n",
    "        item_knn = np.zeros((length, entity_item), dtype=int)\n",
    "        mm = movie_movie[movie_movie[:,0] == item][:,1].astype(int)\n",
    "        item_knn[i, mm-1] = 1"
   ]
  },
  {
   "cell_type": "code",
   "execution_count": 74,
   "metadata": {},
   "outputs": [
    {
     "data": {
      "text/plain": [
       "(627, 649)"
      ]
     },
     "execution_count": 74,
     "metadata": {},
     "output_type": "execute_result"
    }
   ],
   "source": [
    "user_index, item_index, fea_age, fea_occupation, fea_genre, user_knn, item_knn"
   ]
  },
  {
   "cell_type": "code",
   "execution_count": 75,
   "metadata": {},
   "outputs": [],
   "source": [
    "user_index = np.zeros((X_train.shape[0], entity_user), dtype=int)\n",
    "user_index[i, user-1] = 1\n",
    "\n",
    "item_index = np.zeros((X_train.shape[0], entity_item), dtype=int)\n",
    "item_index[i, item-1] = 1\n",
    "\n",
    "fea_age = np.zeros((X_train.shape[0], age), dtype=int)\n",
    "ua = user_age[user_age[:,0] == user][:,1]\n",
    "fea_age[i, ua-1] = 1\n",
    "\n",
    "fea_occupation = np.zeros((X_train.shape[0], occupation), dtype=int)\n",
    "uo = user_occupation[user_occupation[:,0] == user][:,1]\n",
    "fea_occupation[i, uo-1] = 1\n",
    "\n",
    "fea_genre = np.zeros((X_train.shape[0], genre), dtype=int)\n",
    "mg = movie_genre[movie_genre[:,0] == item][:,1]\n",
    "fea_genre[i, mg-1] = 1\n",
    "\n",
    "user_knn = np.zeros((X_train.shape[0], entity_user), dtype=int)\n",
    "uu = user_user[user_user[:,0] == user][:,1].astype(int)\n",
    "user_knn[i, uu-1] = 1\n",
    "\n",
    "item_knn = np.zeros((X_train.shape[0], entity_item), dtype=int)\n",
    "mm = movie_movie[movie_movie[:,0] == item][:,1].astype(int)\n",
    "item_knn[i, mm-1] = 1"
   ]
  },
  {
   "cell_type": "code",
   "execution_count": 76,
   "metadata": {},
   "outputs": [],
   "source": []
  },
  {
   "cell_type": "code",
   "execution_count": null,
   "metadata": {},
   "outputs": [],
   "source": []
  }
 ],
 "metadata": {
  "kernelspec": {
   "display_name": "python36",
   "language": "python",
   "name": "python3"
  },
  "language_info": {
   "codemirror_mode": {
    "name": "ipython",
    "version": 3
   },
   "file_extension": ".py",
   "mimetype": "text/x-python",
   "name": "python",
   "nbconvert_exporter": "python",
   "pygments_lexer": "ipython3",
   "version": "3.10.11"
  },
  "orig_nbformat": 4
 },
 "nbformat": 4,
 "nbformat_minor": 2
}
