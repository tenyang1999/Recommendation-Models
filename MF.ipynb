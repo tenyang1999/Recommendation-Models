{
 "cells": [
  {
   "cell_type": "code",
   "execution_count": 12,
   "metadata": {},
   "outputs": [
    {
     "data": {
      "text/plain": [
       "'\\nhttps://github.com/ibayer/fastFM\\n'"
      ]
     },
     "execution_count": 12,
     "metadata": {},
     "output_type": "execute_result"
    }
   ],
   "source": [
    "from fastFM import als \n",
    "import pandas as pd\n",
    "from numpy.linalg import norm\n",
    "import numpy as np\n",
    "from sklearn.model_selection import train_test_split\n",
    "from sklearn.metrics.pairwise import cosine_similarity\n",
    "from scipy import sparse\n",
    "from sklearn.metrics import mean_squared_error,recall_score,ndcg_score\n",
    "from sklearn.model_selection import ShuffleSplit\n",
    "from scipy.sparse import csc_matrix\n",
    "import json\n",
    "'''\n",
    "https://github.com/ibayer/fastFM\n",
    "'''"
   ]
  },
  {
   "cell_type": "code",
   "execution_count": 4,
   "metadata": {},
   "outputs": [],
   "source": [
    "user_movie = np.load('../hw3_data/Movielens/user_movie.npy')\n",
    "embed_X = np.load(\"../hw3_data/Movielens/embedding.npy\")\n",
    "\n",
    "X = embed_X \n",
    "y = user_movie[:,-1]"
   ]
  },
  {
   "cell_type": "code",
   "execution_count": 9,
   "metadata": {},
   "outputs": [],
   "source": [
    "user_business = np.load('../hw3_data/Yelp/user_business.npy')\n",
    "X = np.load(\"../hw3_data/Yelp/Yelp_embedding.npy\")\n",
    "\n",
    "X = embed_X \n",
    "y = user_business[:,-1]"
   ]
  },
  {
   "cell_type": "code",
   "execution_count": 7,
   "metadata": {},
   "outputs": [],
   "source": [
    "def Average(lst): \n",
    "\treturn round(sum(lst) / len(lst),4) "
   ]
  },
  {
   "cell_type": "code",
   "execution_count": 13,
   "metadata": {},
   "outputs": [],
   "source": [
    "RMSE_M = []\n",
    "recall_M = []\n",
    "NDCG_M = []\n",
    "store_final_result = {}\n",
    "rs = ShuffleSplit(n_splits=5, test_size=.1, random_state=42)\n",
    "for i, (train_index, test_index) in enumerate(rs.split(X)):\n",
    "    X_train, y_train = X[train_index], y[train_index]\n",
    "    X_test, y_test = X[test_index], y[test_index]\n",
    "    X_train = csc_matrix(X_train)\n",
    "    X_test = csc_matrix(X_test)\n",
    "    fm = als.FMRegression(n_iter=1000, init_stdev=0.1, rank=2, l2_reg_w=0.1, l2_reg_V=0.5)\n",
    "    fm.fit(X_train, y_train)\n",
    "    y_pred = fm.predict(X_test)\n",
    "\n",
    "    RMSE = mean_squared_error(np.array(y_pred),y_test, squared=False)\n",
    "    RMSE_M.append(RMSE)\n",
    "    recall = recall_score(np.round(np.array(y_pred)),y_test, average='micro')\n",
    "    recall_M.append(recall)\n",
    "    NDCG = ndcg_score(np.array([y_pred]),y_test.reshape(1, -1), k=10)\n",
    "    NDCG_M.append(NDCG) \n",
    "    print(f\"RMSE: {RMSE}, Recall: {recall}, NDCG: {NDCG}\")\n",
    "print(f\"Average RMSE: {Average(RMSE_M)}, Average Recall: {Average(recall_M)}, Average NDCG: {Average(NDCG_M)}\") \n",
    "store_final_result['Yelp'] = f\"Average RMSE: {Average(RMSE_M)}, Average Recall: {Average(recall_M)}, Average NDCG: {Average(NDCG_M)}\"\n",
    "\n",
    "#0.8353, Average Recall: 0.4685, Average NDCG: 0.7758\n",
    "with open('final_result_yelp.txt', 'w') as file:\n",
    "    file.write(json.dumps(store_final_result))"
   ]
  },
  {
   "cell_type": "code",
   "execution_count": 74,
   "metadata": {},
   "outputs": [
    {
     "data": {
      "text/plain": [
       "(627, 649)"
      ]
     },
     "execution_count": 74,
     "metadata": {},
     "output_type": "execute_result"
    }
   ],
   "source": [
    "user_index, item_index, fea_age, fea_occupation, fea_genre, user_knn, item_knn"
   ]
  }
 ],
 "metadata": {
  "kernelspec": {
   "display_name": "python36",
   "language": "python",
   "name": "python3"
  },
  "language_info": {
   "codemirror_mode": {
    "name": "ipython",
    "version": 3
   },
   "file_extension": ".py",
   "mimetype": "text/x-python",
   "name": "python",
   "nbconvert_exporter": "python",
   "pygments_lexer": "ipython3",
   "version": "3.6.13"
  },
  "orig_nbformat": 4
 },
 "nbformat": 4,
 "nbformat_minor": 2
}
