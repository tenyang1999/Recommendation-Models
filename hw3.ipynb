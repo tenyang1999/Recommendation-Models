{
 "cells": [
  {
   "cell_type": "code",
   "execution_count": 3,
   "metadata": {},
   "outputs": [],
   "source": [
    "import pandas as pd\n",
    "from numpy.linalg import norm\n",
    "import numpy as np\n",
    "import torch\n",
    "from sklearn.model_selection import train_test_split\n",
    "from sklearn.metrics.pairwise import cosine_similarity\n",
    "from scipy import sparse\n",
    "from sklearn.metrics import mean_squared_error\n",
    "from sklearn.model_selection import ShuffleSplit"
   ]
  },
  {
   "attachments": {},
   "cell_type": "markdown",
   "metadata": {},
   "source": [
    "# load data book"
   ]
  },
  {
   "cell_type": "code",
   "execution_count": 13,
   "metadata": {},
   "outputs": [],
   "source": [
    "user_user = pd.read_csv('../hw3_data/Douban_Book/user_user.dat', sep='\\t', header=None)\n",
    "user_book = pd.read_csv('../hw3_data/Douban_Book/user_book.dat', sep='\\t', header=None)\n",
    "user_group = pd.read_csv('../hw3_data/Douban_Book/user_group.dat', sep='\\t', header=None)\n",
    "user_location = pd.read_csv('../hw3_data/Douban_Book/user_location.dat', sep='\\t', header=None)\n",
    "book_author = pd.read_csv('../hw3_data/Douban_Book/book_author.dat', sep='\\t', header=None)\n",
    "book_publisher = pd.read_csv('../hw3_data/Douban_Book/book_publisher.dat', sep='\\t', header=None)\n",
    "book_year = pd.read_csv('../hw3_data/Douban_Book/book_year.dat', sep='\\t', header=None)"
   ]
  },
  {
   "cell_type": "code",
   "execution_count": 18,
   "metadata": {},
   "outputs": [],
   "source": [
    "user_interaction = user_book[1].value_counts()\n",
    "user_book = user_book[user_book[1].isin(user_interaction.index[user_interaction.gt(3)])]\n",
    "np.save('../hw3_data/Douban_Book/user_book.npy',user_book)"
   ]
  },
  {
   "cell_type": "code",
   "execution_count": 17,
   "metadata": {},
   "outputs": [],
   "source": [
    "np.save('../hw3_data/Douban_Book/user_user.npy',user_user)\n",
    "np.save('../hw3_data/Douban_Book/user_group.npy',user_group)\n",
    "np.save('../hw3_data/Douban_Book/user_location.npy',user_location)\n",
    "np.save('../hw3_data/Douban_Book/book_author.npy',book_author)\n",
    "np.save('../hw3_data/Douban_Book/book_publisher.npy',book_publisher)\n",
    "np.save('../hw3_data/Douban_Book/book_year.npy',book_year)"
   ]
  },
  {
   "cell_type": "code",
   "execution_count": 29,
   "metadata": {},
   "outputs": [],
   "source": [
    "# whose user-user interaction < 3\n",
    "zero_inter = []\n",
    "for i in range(1, 13024+1):\n",
    "    inter_left = user_user[user_user[0] == i].shape[0]\n",
    "    inter_right = user_user[user_user[1] == i].shape[0]\n",
    "    inter = inter_right + inter_left \n",
    "    if inter < 3:\n",
    "        zero_inter.append(i)\n"
   ]
  },
  {
   "cell_type": "code",
   "execution_count": 30,
   "metadata": {},
   "outputs": [],
   "source": [
    "user_user['drop'] = user_user.apply(lambda row: row[0] in zero_inter ,axis = 1)\n",
    "user_user = user_user[user_user['drop'] == False]\n",
    "user_user = user_user[[0,1]]\n",
    "np.save('../hw3_data/Douban_Book/user_user.npy',user_user)"
   ]
  },
  {
   "cell_type": "code",
   "execution_count": null,
   "metadata": {},
   "outputs": [],
   "source": [
    "# 整理data\n",
    "user_book['drop'] = user_book.apply(lambda row: row[0] in zero_inter ,axis = 1)\n",
    "user_book = user_book[user_book['drop'] == False]\n",
    "user_book = user_book[[0,1,2]]\n",
    "np.save('../hw3_data/Douban_Book/user_book.npy',user_book)\n",
    "\n",
    "user_group['drop'] = user_group.apply(lambda row: row[0] in zero_inter ,axis = 1)\n",
    "user_group = user_group[user_group['drop'] == False]\n",
    "user_group = user_group[[0,1]]\n",
    "np.save('../hw3_data/Douban_Book/user_group.npy',user_book)\n",
    "\n",
    "user_location['drop'] = user_location.apply(lambda row: row[0] in zero_inter ,axis = 1)\n",
    "user_location = user_location[user_location['drop'] == False]\n",
    "user_location = user_location[[0,1]]\n",
    "np.save('../hw3_data/Douban_Book/user_location.npy',user_book)\n"
   ]
  },
  {
   "cell_type": "code",
   "execution_count": 15,
   "metadata": {},
   "outputs": [],
   "source": [
    "np.save('../hw3_data/Douban_Book/book_author.npy',book_author)\n",
    "np.save('../hw3_data/Douban_Book/book_publisher.npy',book_publisher)\n",
    "np.save('../hw3_data/Douban_Book/book_year.npy',book_year)"
   ]
  },
  {
   "attachments": {},
   "cell_type": "markdown",
   "metadata": {},
   "source": [
    "# load data MovieLens"
   ]
  },
  {
   "cell_type": "code",
   "execution_count": null,
   "metadata": {},
   "outputs": [],
   "source": [
    "'''\n",
    "This data set consists of:\n",
    "\t* 100,000 ratings (1-5) from 943 users on 1682 movies. \n",
    "\t* Each user has rated at least 20 movies. \n",
    "        * Simple demographic info for the users (age, gender, occupation, zip)\n",
    "\n",
    " user_movie = user id | item id | rating | timestamp. \n",
    "'''"
   ]
  },
  {
   "cell_type": "code",
   "execution_count": 4,
   "metadata": {},
   "outputs": [],
   "source": [
    "movie_genre = pd.read_csv('../hw3_data/Movielens/movie_genre.dat', sep='\\t', header=None)\n",
    "movie_movie = pd.read_csv('../hw3_data/Movielens/movie_movie(knn).dat', sep='\\t', header=None)\n",
    "user_age = pd.read_csv('../hw3_data/Movielens/user_age.dat', sep='\\t', header=None)\n",
    "user_movie = pd.read_csv('../hw3_data/Movielens/user_movie.dat', sep='\\t', header=None)\n",
    "user_occupation = pd.read_csv('../hw3_data/Movielens/user_occupation.dat', sep='\\t', header=None)\n",
    "user_user = pd.read_csv('../hw3_data/Movielens/user_user(knn).dat', sep='\\t', header=None)"
   ]
  },
  {
   "cell_type": "code",
   "execution_count": 21,
   "metadata": {},
   "outputs": [],
   "source": [
    "user_interaction = user_movie[1].value_counts()\n",
    "user_movie = user_movie[user_movie[1].isin(user_interaction.index[user_interaction.gt(3)])]\n",
    "np.save(\"../hw3_data/Movielens/user_movie.npy\",np.array(user_movie[[0,1,2]]))"
   ]
  },
  {
   "cell_type": "code",
   "execution_count": 9,
   "metadata": {},
   "outputs": [],
   "source": [
    "np.save(\"../hw3_data/Movielens/user_movie.npy\",np.array(user_movie[[0,1,2]]))\n",
    "np.save(\"../hw3_data/Movielens/movie_genre.npy\",np.array(movie_genre))\n",
    "np.save(\"../hw3_data/Movielens/movie_movie.npy\",np.array(movie_movie))\n",
    "np.save(\"../hw3_data/Movielens/user_age.npy\",np.array(user_age))\n",
    "np.save(\"../hw3_data/Movielens/user_occupation.npy\",np.array(user_occupation))\n",
    "np.save(\"../hw3_data/Movielens/user_user.npy\",np.array(user_user))"
   ]
  },
  {
   "attachments": {},
   "cell_type": "markdown",
   "metadata": {},
   "source": [
    "# load data Yelp"
   ]
  },
  {
   "cell_type": "code",
   "execution_count": null,
   "metadata": {},
   "outputs": [],
   "source": [
    "'''\n",
    "The Yelp dataset is a subset of our businesses, reviews, \n",
    "and user data for use in personal, educational, and academic purposes. \n",
    "\n",
    "Available as JSON files, use it to teach students about databases, \n",
    "to learn NLP, or for sample production data while you learn how to make mobile apps.\n",
    "\n",
    "user_user[2] one for all, shows there have interaction or not, 是否有讚美\n",
    "\n",
    "user_compliment[2] one for all, shows there have compliment or not, 是否有讚美\n",
    "user_compliment[1] = compliment(讚美), array[1 - 11], 讚美分11種\n",
    "'''"
   ]
  },
  {
   "cell_type": "code",
   "execution_count": 23,
   "metadata": {},
   "outputs": [],
   "source": [
    "business_category = pd.read_csv('../hw3_data/Yelp/business_category.dat', sep='\\t', header=None)\n",
    "business_city = pd.read_csv('../hw3_data/Yelp/business_city.dat', sep='\\t', header=None)\n",
    "user_business = pd.read_csv('../hw3_data/Yelp/user_business.dat', sep='\\t', header=None)\n",
    "user_compliment = pd.read_csv('../hw3_data/Yelp/user_compliment.dat', sep='\\t', header=None)\n",
    "user_user = pd.read_csv('../hw3_data/Yelp/user_user.dat', sep='\\t', header=None)"
   ]
  },
  {
   "cell_type": "code",
   "execution_count": 26,
   "metadata": {},
   "outputs": [],
   "source": [
    "user_interaction = user_business[1].value_counts()\n",
    "user_business = user_business[user_business[1].isin(user_interaction.index[user_interaction.gt(3)])]\n",
    "np.save('../hw3_data/Yelp/user_business.npy',user_business)"
   ]
  },
  {
   "cell_type": "code",
   "execution_count": 27,
   "metadata": {},
   "outputs": [],
   "source": [
    "np.save('../hw3_data/Yelp/business_category.npy',business_category)\n",
    "np.save('../hw3_data/Yelp/business_city.npy',business_city)\n",
    "np.save('../hw3_data/Yelp/user_compliment.npy',user_compliment)\n",
    "np.save('../hw3_data/Yelp/user_user.npy',user_user)"
   ]
  },
  {
   "cell_type": "code",
   "execution_count": 7,
   "metadata": {},
   "outputs": [],
   "source": [
    "# whose user-item interaction < 3\n",
    "zero_inter = []\n",
    "for i in range(1, 16239+1):\n",
    "    inter_left = user_user[user_user[0] == i].shape[0]\n",
    "    inter_right = user_user[user_user[1] == i].shape[0]\n",
    "    inter = inter_right + inter_left \n",
    "    if inter < 3:\n",
    "        zero_inter.append(i)\n",
    "\n",
    "# 整理data\n",
    "user_business['drop'] = user_business.apply(lambda row: row[0] in zero_inter ,axis = 1)\n",
    "user_business = user_business[user_business['drop'] == False]\n",
    "user_business = user_business[[0,1,2]]\n",
    "user_business\n",
    "np.save('../hw3_data/Yelp/user_business.npy',user_business)\n",
    "\n",
    "user_compliment['drop'] = user_compliment.apply(lambda row: row[0] in zero_inter ,axis = 1)\n",
    "user_compliment = user_compliment[user_compliment['drop'] == False]\n",
    "user_compliment = user_compliment[[0,1,2]]\n",
    "user_compliment\n",
    "np.save('../hw3_data/Yelp/user_compliment.npy',user_compliment)\n",
    "\n",
    "user_user['drop'] = user_user.apply(lambda row: row[0] in zero_inter ,axis = 1)\n",
    "user_user = user_user[user_user['drop'] == False]\n",
    "user_user = user_user[[0,1,2]]\n",
    "np.save('../hw3_data/Yelp/user_user.npy',user_user)\n"
   ]
  },
  {
   "cell_type": "code",
   "execution_count": 17,
   "metadata": {},
   "outputs": [],
   "source": [
    "np.save('../hw3_data/Yelp/business_category.npy',business_category)\n",
    "np.save('../hw3_data/Yelp/business_city.npy',business_city)"
   ]
  }
 ],
 "metadata": {
  "kernelspec": {
   "display_name": "Recsys",
   "language": "python",
   "name": "python3"
  },
  "language_info": {
   "codemirror_mode": {
    "name": "ipython",
    "version": 3
   },
   "file_extension": ".py",
   "mimetype": "text/x-python",
   "name": "python",
   "nbconvert_exporter": "python",
   "pygments_lexer": "ipython3",
   "version": "3.10.11"
  }
 },
 "nbformat": 4,
 "nbformat_minor": 4
}
