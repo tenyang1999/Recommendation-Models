{
 "cells": [
  {
   "cell_type": "code",
   "execution_count": 1,
   "metadata": {},
   "outputs": [],
   "source": [
    "import pandas as pd\n",
    "from numpy.linalg import norm\n",
    "import numpy as np\n",
    "import torch\n",
    "from sklearn.model_selection import train_test_split\n",
    "from sklearn.metrics.pairwise import cosine_similarity\n",
    "from scipy import sparse\n",
    "from sklearn.metrics import mean_squared_error\n",
    "from sklearn.model_selection import ShuffleSplit"
   ]
  },
  {
   "cell_type": "code",
   "execution_count": 34,
   "metadata": {},
   "outputs": [],
   "source": [
    "movie_genre = pd.read_csv('../hw3_data/Movielens/movie_genre.dat', sep='\\t', header=None)\n",
    "movie_movie = pd.read_csv('../hw3_data/Movielens/movie_movie(knn).dat', sep='\\t', header=None)\n",
    "user_age = pd.read_csv('../hw3_data/Movielens/user_age.dat', sep='\\t', header=None)\n",
    "user_movie = pd.read_csv('../hw3_data/Movielens/user_movie.dat', sep='\\t', header=None)\n",
    "user_occupation = pd.read_csv('../hw3_data/Movielens/user_occupation.dat', sep='\\t', header=None)\n",
    "user_user = pd.read_csv('../hw3_data/Movielens/user_user(knn).dat', sep='\\t', header=None)"
   ]
  },
  {
   "cell_type": "code",
   "execution_count": 35,
   "metadata": {},
   "outputs": [],
   "source": [
    "user_interaction = user_movie[1].value_counts()\n",
    "user_movie = user_movie[user_movie[1].isin(user_interaction.index[user_interaction.gt(3)])]\n",
    "user_movie.columns = ['user', 'movie', 'rating', 'timestamp']"
   ]
  },
  {
   "cell_type": "code",
   "execution_count": 93,
   "metadata": {},
   "outputs": [],
   "source": [
    "movie_genre = np.load('../hw3_data/Movielens/movie_genre.npy')\n",
    "movie_movie = np.load('../hw3_data/Movielens/movie_movie.npy')\n",
    "user_age = np.load('../hw3_data/Movielens/user_age.npy')\n",
    "user_movie = np.load('../hw3_data/Movielens/user_movie.npy')\n",
    "user_occupation = np.load('../hw3_data/Movielens/user_occupation.npy')\n",
    "user_user = np.load('../hw3_data/Movielens/user_user.npy')\n",
    "\n",
    "X = user_movie[:,:2]\n",
    "y = user_movie[:,-1]\n",
    "entity_user = 943\n",
    "entity_item = 1682\n",
    "age, occupation, genre = 8, 21, 18 # entity amount "
   ]
  },
  {
   "cell_type": "code",
   "execution_count": 94,
   "metadata": {},
   "outputs": [
    {
     "data": {
      "text/plain": [
       "(99543, 3)"
      ]
     },
     "execution_count": 94,
     "metadata": {},
     "output_type": "execute_result"
    }
   ],
   "source": [
    "user_movie.shape"
   ]
  },
  {
   "cell_type": "code",
   "execution_count": 58,
   "metadata": {},
   "outputs": [
    {
     "name": "stdout",
     "output_type": "stream",
     "text": [
      "(196, 242, 5, 3)\n"
     ]
    },
    {
     "data": {
      "text/plain": [
       "array([196, 242,   5,   3])"
      ]
     },
     "execution_count": 58,
     "metadata": {},
     "output_type": "execute_result"
    }
   ],
   "source": [
    "data = X[0]\n",
    "user, item = data\n",
    "\n",
    "ua = user_age[user_age[:,0] == user][:,1][0]\n",
    "uo = user_occupation[user_occupation[:,0] == user][:,1][0]\n",
    "train_example = np.array([user,item,ua,uo])\n",
    "train_example"
   ]
  },
  {
   "cell_type": "code",
   "execution_count": 91,
   "metadata": {},
   "outputs": [
    {
     "data": {
      "text/plain": [
       "'0'"
      ]
     },
     "execution_count": 91,
     "metadata": {},
     "output_type": "execute_result"
    }
   ],
   "source": [
    "mg = movie_genre[movie_genre[:,0] == 267][:,1]\n",
    "mg = \"|\".join(str(x) for x in mg)\n",
    "if mg =='':\n",
    "    mg = str(0)\n",
    "mg"
   ]
  },
  {
   "cell_type": "code",
   "execution_count": 96,
   "metadata": {},
   "outputs": [],
   "source": [
    "def get_embedding(data, ):\n",
    "    user, item = data\n",
    "    \n",
    "    ua = user_age[user_age[:,0] == user][:,1][0]\n",
    "    uo = user_occupation[user_occupation[:,0] == user][:,1][0]\n",
    "    mg = movie_genre[movie_genre[:,0] == item][:,1]\n",
    "    mg = \"|\".join(str(x) for x in mg)\n",
    "    if mg =='':\n",
    "        mg = str(0)\n",
    "    # fea_genre = np.zeros((1, genre), dtype=int)\n",
    "    # mg = movie_genre[movie_genre[:,0] == item][:,1]\n",
    "    # fea_genre[0, mg-1] = 1\n",
    "\n",
    "    # user_knn = np.zeros((1, entity_user), dtype=int)\n",
    "    # uu = user_user[user_user[:,0] == user][:,1].astype(int)\n",
    "    # user_knn[0, uu-1] = 1\n",
    "\n",
    "    # item_knn = np.zeros((1, entity_item), dtype=int)\n",
    "    # mm = movie_movie[movie_movie[:,0] == item][:,1].astype(int)\n",
    "    # item_knn[0, mm-1] = 1\n",
    "    \n",
    "    # train_example = np.concatenate((user_index, item_index, fea_age, fea_occupation, fea_genre, user_knn, item_knn), axis=1)\n",
    "    train_example = np.array([user,item,ua,uo,mg])\n",
    "    return train_example\n",
    "\n",
    "\n",
    "embed_X = np.apply_along_axis(get_embedding, 1, X)\n",
    "embed = np.concatenate((embed_X, y.reshape(-1,1)),axis =1)"
   ]
  },
  {
   "cell_type": "code",
   "execution_count": 97,
   "metadata": {},
   "outputs": [
    {
     "data": {
      "text/html": [
       "<div>\n",
       "<style scoped>\n",
       "    .dataframe tbody tr th:only-of-type {\n",
       "        vertical-align: middle;\n",
       "    }\n",
       "\n",
       "    .dataframe tbody tr th {\n",
       "        vertical-align: top;\n",
       "    }\n",
       "\n",
       "    .dataframe thead th {\n",
       "        text-align: right;\n",
       "    }\n",
       "</style>\n",
       "<table border=\"1\" class=\"dataframe\">\n",
       "  <thead>\n",
       "    <tr style=\"text-align: right;\">\n",
       "      <th></th>\n",
       "      <th>user</th>\n",
       "      <th>movie</th>\n",
       "      <th>age</th>\n",
       "      <th>occupation</th>\n",
       "      <th>genre</th>\n",
       "      <th>rating</th>\n",
       "    </tr>\n",
       "  </thead>\n",
       "  <tbody>\n",
       "    <tr>\n",
       "      <th>0</th>\n",
       "      <td>196</td>\n",
       "      <td>242</td>\n",
       "      <td>5</td>\n",
       "      <td>3</td>\n",
       "      <td>5</td>\n",
       "      <td>3</td>\n",
       "    </tr>\n",
       "    <tr>\n",
       "      <th>1</th>\n",
       "      <td>186</td>\n",
       "      <td>302</td>\n",
       "      <td>4</td>\n",
       "      <td>4</td>\n",
       "      <td>6|10|13|16</td>\n",
       "      <td>3</td>\n",
       "    </tr>\n",
       "    <tr>\n",
       "      <th>2</th>\n",
       "      <td>22</td>\n",
       "      <td>377</td>\n",
       "      <td>3</td>\n",
       "      <td>3</td>\n",
       "      <td>4|5</td>\n",
       "      <td>1</td>\n",
       "    </tr>\n",
       "    <tr>\n",
       "      <th>3</th>\n",
       "      <td>244</td>\n",
       "      <td>51</td>\n",
       "      <td>3</td>\n",
       "      <td>1</td>\n",
       "      <td>8|14|17|18</td>\n",
       "      <td>2</td>\n",
       "    </tr>\n",
       "    <tr>\n",
       "      <th>4</th>\n",
       "      <td>166</td>\n",
       "      <td>346</td>\n",
       "      <td>5</td>\n",
       "      <td>8</td>\n",
       "      <td>6|8</td>\n",
       "      <td>1</td>\n",
       "    </tr>\n",
       "    <tr>\n",
       "      <th>...</th>\n",
       "      <td>...</td>\n",
       "      <td>...</td>\n",
       "      <td>...</td>\n",
       "      <td>...</td>\n",
       "      <td>...</td>\n",
       "      <td>...</td>\n",
       "    </tr>\n",
       "    <tr>\n",
       "      <th>99538</th>\n",
       "      <td>880</td>\n",
       "      <td>476</td>\n",
       "      <td>2</td>\n",
       "      <td>6</td>\n",
       "      <td>5</td>\n",
       "      <td>3</td>\n",
       "    </tr>\n",
       "    <tr>\n",
       "      <th>99539</th>\n",
       "      <td>716</td>\n",
       "      <td>204</td>\n",
       "      <td>4</td>\n",
       "      <td>5</td>\n",
       "      <td>5|15</td>\n",
       "      <td>5</td>\n",
       "    </tr>\n",
       "    <tr>\n",
       "      <th>99540</th>\n",
       "      <td>276</td>\n",
       "      <td>1090</td>\n",
       "      <td>3</td>\n",
       "      <td>6</td>\n",
       "      <td>16</td>\n",
       "      <td>1</td>\n",
       "    </tr>\n",
       "    <tr>\n",
       "      <th>99541</th>\n",
       "      <td>13</td>\n",
       "      <td>225</td>\n",
       "      <td>5</td>\n",
       "      <td>8</td>\n",
       "      <td>4|5</td>\n",
       "      <td>2</td>\n",
       "    </tr>\n",
       "    <tr>\n",
       "      <th>99542</th>\n",
       "      <td>12</td>\n",
       "      <td>203</td>\n",
       "      <td>3</td>\n",
       "      <td>2</td>\n",
       "      <td>18</td>\n",
       "      <td>3</td>\n",
       "    </tr>\n",
       "  </tbody>\n",
       "</table>\n",
       "<p>99543 rows × 6 columns</p>\n",
       "</div>"
      ],
      "text/plain": [
       "      user movie age occupation       genre rating\n",
       "0      196   242   5          3           5      3\n",
       "1      186   302   4          4  6|10|13|16      3\n",
       "2       22   377   3          3         4|5      1\n",
       "3      244    51   3          1  8|14|17|18      2\n",
       "4      166   346   5          8         6|8      1\n",
       "...    ...   ...  ..        ...         ...    ...\n",
       "99538  880   476   2          6           5      3\n",
       "99539  716   204   4          5        5|15      5\n",
       "99540  276  1090   3          6          16      1\n",
       "99541   13   225   5          8         4|5      2\n",
       "99542   12   203   3          2          18      3\n",
       "\n",
       "[99543 rows x 6 columns]"
      ]
     },
     "execution_count": 97,
     "metadata": {},
     "output_type": "execute_result"
    }
   ],
   "source": [
    "embed = pd.DataFrame(embed, columns=['user', 'movie', 'age', 'occupation', 'genre','rating'])\n",
    "embed"
   ]
  },
  {
   "cell_type": "code",
   "execution_count": 98,
   "metadata": {},
   "outputs": [],
   "source": [
    "embed.to_csv('../hw3_data/Movielens/movielens_sample.csv',index=False)"
   ]
  },
  {
   "cell_type": "code",
   "execution_count": 36,
   "metadata": {},
   "outputs": [],
   "source": [
    "def concate_age(data):\n",
    "    user = data['user']\n",
    "    ua = user_age[user_age[0] == user][1]\n",
    "    uo = user_occupation[user_occupation[0] == user][1]\n",
    "    return ua,uo\n",
    "\n",
    "# def concate_occupation(data):\n",
    "#     user, item = data['user'], data['movie']\n",
    "#     uo = user_occupation[user_occupation[0] == user][1]\n",
    "#     return uo"
   ]
  },
  {
   "cell_type": "code",
   "execution_count": 38,
   "metadata": {},
   "outputs": [],
   "source": [
    "user_movie['age'] = user_movie.apply(concate_age, axis=1)\n",
    "# user_movie['occupation'] = user_movie.apply(concate_occupation , axis=1)"
   ]
  },
  {
   "cell_type": "code",
   "execution_count": null,
   "metadata": {},
   "outputs": [],
   "source": []
  }
 ],
 "metadata": {
  "kernelspec": {
   "display_name": "Recsys",
   "language": "python",
   "name": "python3"
  },
  "language_info": {
   "codemirror_mode": {
    "name": "ipython",
    "version": 3
   },
   "file_extension": ".py",
   "mimetype": "text/x-python",
   "name": "python",
   "nbconvert_exporter": "python",
   "pygments_lexer": "ipython3",
   "version": "3.10.11"
  },
  "orig_nbformat": 4
 },
 "nbformat": 4,
 "nbformat_minor": 2
}
